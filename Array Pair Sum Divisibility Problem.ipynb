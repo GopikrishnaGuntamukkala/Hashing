{
 "cells": [
  {
   "cell_type": "markdown",
   "id": "6a416274",
   "metadata": {},
   "source": [
    "# Given an array of integers and a number k, write a function that returns true if given array can be divided into pairs such that sum of every pair is divisible by k.\n",
    " \n",
    "\n",
    "Example 1 :\n",
    "\n",
    "Input : arr = [9, 5, 7, 3], k = 6\n",
    "\n",
    "Output: True\n",
    "\n",
    "Explanation: {(9, 3), (5, 7)} is a \n",
    "possible solution. 9 + 3 = 12 is divisible\n",
    "by 6 and 7 + 5 = 12 is also divisible by 6.\n",
    "\n",
    "Example 2:\n",
    "\n",
    "Input : arr = [2, 4, 1, 3], k = 4\n",
    "\n",
    "Output: False\n",
    "\n",
    "Explanation: There is no possible solution."
   ]
  },
  {
   "cell_type": "code",
   "execution_count": 2,
   "id": "80e8584c",
   "metadata": {},
   "outputs": [
    {
     "name": "stdout",
     "output_type": "stream",
     "text": [
      "True\n"
     ]
    }
   ],
   "source": [
    "# Python3 program to check if arr[0..n-1] can be divided in pairs such that every pair is divisible by k.\n",
    "from collections import defaultdict\n",
    "\n",
    "# Returns true if arr[0..n-1] can be divided into pairs with sum divisible by k.\n",
    "\n",
    "\n",
    "def canPairs(arr, n, k):\n",
    "\n",
    "\t# An odd length array cannot be divided into pairs\n",
    "\tif (n & 1):\n",
    "\t\treturn 0\n",
    "\n",
    "\t# Create a frequency array to count occurrences of all remainders when divided by k.\n",
    "\tfreq = defaultdict(lambda: 0)\n",
    "\n",
    "\t# Count occurrences of all remainders\n",
    "\tfor i in range(0, n):\n",
    "\t\tfreq[((arr[i] % k) + k) % k] += 1\n",
    "\n",
    "\t# Traverse input array and use freq[] to decide if given array can be divided in pairs\n",
    "\tfor i in range(0, n):\n",
    "\n",
    "\t\t# Remainder of current element\n",
    "\t\trem = ((arr[i] % k) + k) % k\n",
    "\n",
    "\t\t# If remainder with current element divides k into two halves.\n",
    "\t\tif (2 * rem == k):\n",
    "\n",
    "\t\t\t# Then there must be even occurrences of such remainder\n",
    "\t\t\tif (freq[rem] % 2 != 0):\n",
    "\t\t\t\treturn 0\n",
    "\n",
    "\t\t# If remainder is 0, then there must be two elements with 0 remainder\n",
    "\t\telif (rem == 0):\n",
    "\t\t\tif (freq[rem] & 1):\n",
    "\t\t\t\treturn 0\n",
    "\n",
    "\t\t\t# Else number of occurrences of remainder must be equal to number of occurrences of k - remainder\n",
    "\t\telif (freq[rem] != freq[k - rem]):\n",
    "\t\t\treturn 0\n",
    "\n",
    "\treturn 1\n",
    "\n",
    "\n",
    "# Driver code\n",
    "arr = [92, 75, 65, 48, 45, 35]\n",
    "k = 10\n",
    "n = len(arr)\n",
    "\n",
    "# Function call\n",
    "if (canPairs(arr, n, k)):\n",
    "\tprint(\"True\")\n",
    "else:\n",
    "\tprint(\"False\")\n",
    "\n"
   ]
  },
  {
   "cell_type": "code",
   "execution_count": null,
   "id": "256cd695",
   "metadata": {},
   "outputs": [],
   "source": []
  }
 ],
 "metadata": {
  "kernelspec": {
   "display_name": "Python 3 (ipykernel)",
   "language": "python",
   "name": "python3"
  },
  "language_info": {
   "codemirror_mode": {
    "name": "ipython",
    "version": 3
   },
   "file_extension": ".py",
   "mimetype": "text/x-python",
   "name": "python",
   "nbconvert_exporter": "python",
   "pygments_lexer": "ipython3",
   "version": "3.9.12"
  }
 },
 "nbformat": 4,
 "nbformat_minor": 5
}
