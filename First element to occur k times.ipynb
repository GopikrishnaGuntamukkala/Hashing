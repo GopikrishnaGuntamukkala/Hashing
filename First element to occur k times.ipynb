{
 "cells": [
  {
   "cell_type": "markdown",
   "id": "d883e665",
   "metadata": {},
   "source": [
    "# Given an array of N integers. Find the first element that occurs atleast K number of times.\n",
    " \n",
    "\n",
    "Example 1:\n",
    "\n",
    "Input :\n",
    "\n",
    "N = 7, K = 2\n",
    "\n",
    "A[] = {1, 7, 4, 3, 4, 8, 7}\n",
    "\n",
    "Output :\n",
    "4\n",
    "\n",
    "Explanation:\n",
    "Both 7 and 4 occur 2 times. \n",
    "But 4 is first that occurs 2 times.\n",
    " "
   ]
  },
  {
   "cell_type": "code",
   "execution_count": 1,
   "id": "b03b59ae",
   "metadata": {},
   "outputs": [
    {
     "data": {
      "text/plain": [
       "4"
      ]
     },
     "execution_count": 1,
     "metadata": {},
     "output_type": "execute_result"
    }
   ],
   "source": [
    "class Solution:\n",
    "    def firstElementKTime(self,  a, n, k):\n",
    "        d={}\n",
    "        for i in a:\n",
    "            d[i]=d.get(i,0)+1\n",
    "            if d[i]==k:\n",
    "                return i\n",
    "        return -1\n",
    "n=7\n",
    "k=2\n",
    "a=[1,7,4,3,4,8,7]\n",
    "obj = Solution()\n",
    "obj.firstElementKTime(a, n, k)"
   ]
  },
  {
   "cell_type": "code",
   "execution_count": null,
   "id": "aa7071fe",
   "metadata": {},
   "outputs": [],
   "source": []
  }
 ],
 "metadata": {
  "kernelspec": {
   "display_name": "Python 3 (ipykernel)",
   "language": "python",
   "name": "python3"
  },
  "language_info": {
   "codemirror_mode": {
    "name": "ipython",
    "version": 3
   },
   "file_extension": ".py",
   "mimetype": "text/x-python",
   "name": "python",
   "nbconvert_exporter": "python",
   "pygments_lexer": "ipython3",
   "version": "3.9.12"
  }
 },
 "nbformat": 4,
 "nbformat_minor": 5
}
