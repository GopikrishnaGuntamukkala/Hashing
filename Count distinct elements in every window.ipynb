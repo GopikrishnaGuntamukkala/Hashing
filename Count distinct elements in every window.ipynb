{
 "cells": [
  {
   "cell_type": "markdown",
   "id": "e71da80c",
   "metadata": {},
   "source": [
    "# Given an array of integers and a number K. Find the count of distinct elements in every window of size K in the array.\n",
    "\n",
    "Example 1:\n",
    "\n",
    "Input:\n",
    "\n",
    "N = 7, K = 4\n",
    "\n",
    "A[] = {1,2,1,3,4,2,3}\n",
    "\n",
    "Output: 3 4 4 3\n",
    "\n",
    "Explanation: Window 1 of size k = 4 is\n",
    "1 2 1 3. \n",
    "\n",
    "Number of distinct elements in\n",
    "this window are 3. \n",
    "\n",
    "Window 2 of size k = 4 is 2 1 3 4. Number\n",
    "of distinct elements in this window are 4.\n",
    "\n",
    "Window 3 of size k = 4 is 1 3 4 2. Number\n",
    "of distinct elements in this window are 4.\n",
    "\n",
    "Window 4 of size k = 4 is 3 4 2 3. Number\n",
    "of distinct elements in this window are 3.\n",
    "\n",
    "Example 2:\n",
    "\n",
    "Input:\n",
    "\n",
    "N = 3, K = 2\n",
    "\n",
    "A[] = {4,1,1}\n",
    "\n",
    "Output: 2 1"
   ]
  },
  {
   "cell_type": "code",
   "execution_count": 2,
   "id": "4cf9024b",
   "metadata": {},
   "outputs": [
    {
     "data": {
      "text/plain": [
       "[2, 1]"
      ]
     },
     "execution_count": 2,
     "metadata": {},
     "output_type": "execute_result"
    }
   ],
   "source": [
    "\n",
    "class Solution:\n",
    "    def countDistinct(self, A, N, K):\n",
    "        # Code here\n",
    "        dis = {}\n",
    "        j = 0\n",
    "        result = []\n",
    "        for i in range(N):\n",
    "            #print(dis,i)\n",
    "            if A[i] not in dis:\n",
    "                dis[A[i]] = 1\n",
    "            else:\n",
    "                dis[A[i]] += 1\n",
    "            if i>=K-1:\n",
    "                result.append(len(dis.keys()))\n",
    "                if dis[A[j]] > 1:\n",
    "                    dis[A[j]] -= 1\n",
    "                else:\n",
    "                    del dis[A[j]] \n",
    "                j += 1\n",
    "        return result\n",
    "\n",
    "N = 3\n",
    "K = 2\n",
    "A = [4,1,1]\n",
    "\n",
    "obj = Solution()\n",
    "obj.countDistinct(A,N,K)"
   ]
  },
  {
   "cell_type": "code",
   "execution_count": null,
   "id": "eff03ba0",
   "metadata": {},
   "outputs": [],
   "source": []
  }
 ],
 "metadata": {
  "kernelspec": {
   "display_name": "Python 3 (ipykernel)",
   "language": "python",
   "name": "python3"
  },
  "language_info": {
   "codemirror_mode": {
    "name": "ipython",
    "version": 3
   },
   "file_extension": ".py",
   "mimetype": "text/x-python",
   "name": "python",
   "nbconvert_exporter": "python",
   "pygments_lexer": "ipython3",
   "version": "3.9.12"
  }
 },
 "nbformat": 4,
 "nbformat_minor": 5
}
