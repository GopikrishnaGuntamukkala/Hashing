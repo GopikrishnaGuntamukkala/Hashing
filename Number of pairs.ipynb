{
 "cells": [
  {
   "cell_type": "markdown",
   "id": "c7f19b1c",
   "metadata": {},
   "source": [
    "# Given two arrays X and Y of positive integers, find the number of pairs such that xy > yx (raised to power of) where x is an element from X and y is an element from Y.\n",
    "\n",
    "Example 1:\n",
    "\n",
    "Input: \n",
    "\n",
    "M = 3, X[] = [2 1 6] \n",
    "\n",
    "N = 2, Y[] = [1 5]\n",
    "\n",
    "Output: 3\n",
    "\n",
    "Explanation: \n",
    "The pairs which follow xy > yx are \n",
    "as such: 21 > 12,  25 > 52 and 61 > 16 ."
   ]
  },
  {
   "cell_type": "code",
   "execution_count": 1,
   "id": "6890dd3d",
   "metadata": {},
   "outputs": [
    {
     "data": {
      "text/plain": [
       "3"
      ]
     },
     "execution_count": 1,
     "metadata": {},
     "output_type": "execute_result"
    }
   ],
   "source": [
    "import math\n",
    "class Solution:\n",
    "    \n",
    "     #Function to count number of pairs such that x^y is greater than y^x.     \n",
    "    def countPairs(self,a,b,M,N):\n",
    "        from bisect import bisect as bi\n",
    "        a.sort()\n",
    "        b.sort()\n",
    "        ans = 0\n",
    "        for X in a:\n",
    "            if X==1: continue\n",
    "            elif X==2:\n",
    "                ans += bi(b, 1) + N-bi(b,4)\n",
    "            elif X==3:\n",
    "                ans += bi(b, 2) + N-bi(b,3)\n",
    "            else: \n",
    "                ans += bi(b, 1) + N-bi(b,X)\n",
    "        return ans\n",
    "M = 3\n",
    "a = [2,1,6] \n",
    "N = 2\n",
    "b = [1,5]\n",
    "obj = Solution()\n",
    "obj.countPairs(a,b, M,N)"
   ]
  },
  {
   "cell_type": "code",
   "execution_count": null,
   "id": "da0e38a3",
   "metadata": {},
   "outputs": [],
   "source": []
  }
 ],
 "metadata": {
  "kernelspec": {
   "display_name": "Python 3 (ipykernel)",
   "language": "python",
   "name": "python3"
  },
  "language_info": {
   "codemirror_mode": {
    "name": "ipython",
    "version": 3
   },
   "file_extension": ".py",
   "mimetype": "text/x-python",
   "name": "python",
   "nbconvert_exporter": "python",
   "pygments_lexer": "ipython3",
   "version": "3.9.12"
  }
 },
 "nbformat": 4,
 "nbformat_minor": 5
}
