{
 "cells": [
  {
   "cell_type": "markdown",
   "id": "2aa478bf",
   "metadata": {},
   "source": [
    "# Given a sorted array arr[] of size N. Find the element that appears only once in the array. All other elements appear exactly twice. \n",
    "\n",
    "Example 1:\n",
    "\n",
    "Input:\n",
    "\n",
    "N = 11\n",
    "\n",
    "arr[] = {1, 1, 2, 2, 3, 3, 4, 50, 50, 65, 65}\n",
    "\n",
    "Output: 4\n",
    "\n",
    "Explanation: 4 is the only element that \n",
    "appears exactly once."
   ]
  },
  {
   "cell_type": "code",
   "execution_count": 1,
   "id": "aef463f1",
   "metadata": {},
   "outputs": [
    {
     "data": {
      "text/plain": [
       "4"
      ]
     },
     "execution_count": 1,
     "metadata": {},
     "output_type": "execute_result"
    }
   ],
   "source": [
    "class Solution:\n",
    "    def findOnce(self,arr , n):\n",
    "        # Complete this function\n",
    "        c=1\n",
    "        temp=[]\n",
    "        if len(arr)==1:\n",
    "            return arr[0]\n",
    "        #arr.sort()\n",
    "        for i in range(0,n-1,2):\n",
    "            if arr[i]!=arr[i+1]:\n",
    "                temp=arr[i]\n",
    "                return temp\n",
    "                break\n",
    "        return arr[n-1]\n",
    "arr=[1,1,2,2,3,3,4,50,50,65,65]\n",
    "n=11\n",
    "obj = Solution()\n",
    "obj.findOnce(arr, n)"
   ]
  },
  {
   "cell_type": "code",
   "execution_count": null,
   "id": "8d33d2dc",
   "metadata": {},
   "outputs": [],
   "source": []
  }
 ],
 "metadata": {
  "kernelspec": {
   "display_name": "Python 3 (ipykernel)",
   "language": "python",
   "name": "python3"
  },
  "language_info": {
   "codemirror_mode": {
    "name": "ipython",
    "version": 3
   },
   "file_extension": ".py",
   "mimetype": "text/x-python",
   "name": "python",
   "nbconvert_exporter": "python",
   "pygments_lexer": "ipython3",
   "version": "3.9.12"
  }
 },
 "nbformat": 4,
 "nbformat_minor": 5
}
