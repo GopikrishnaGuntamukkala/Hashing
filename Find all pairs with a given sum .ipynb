{
 "cells": [
  {
   "cell_type": "markdown",
   "id": "e673bc4a",
   "metadata": {},
   "source": [
    "# Given two unsorted arrays A of size N and B of size M of distinct elements, the task is to find all pairs from both arrays whose sum is equal to X.\n",
    "\n",
    " \n",
    "\n",
    "Example 1:\n",
    "\n",
    "Input:\n",
    "\n",
    "A[] = {1, 2, 4, 5, 7}\n",
    "\n",
    "B[] = {5, 6, 3, 4, 8} \n",
    "\n",
    "X = 9 \n",
    "\n",
    "Output: \n",
    "\n",
    "    1 8\n",
    "\n",
    "    4 5 \n",
    "\n",
    "    5 4\n",
    "\n",
    "    Explanation:\n",
    "(1, 8), (4, 5), (5, 4) are the\n",
    "pairs which sum to 9.\n",
    "\n",
    "Example 2:\n",
    "\n",
    "Input:\n",
    "\n",
    "A[] = {-1, -2, 4, -6, 5, 7}\n",
    "\n",
    "B[] = {6, 3, 4, 0} \n",
    "\n",
    "X = 8 \n",
    "\n",
    "Output:\n",
    "\n",
    "    4 4 \n",
    "\n",
    "    5 3"
   ]
  },
  {
   "cell_type": "code",
   "execution_count": 4,
   "id": "7020df21",
   "metadata": {},
   "outputs": [
    {
     "data": {
      "text/plain": [
       "[[4, 4], [5, 3]]"
      ]
     },
     "execution_count": 4,
     "metadata": {},
     "output_type": "execute_result"
    }
   ],
   "source": [
    "\n",
    "\n",
    "class Solution:\n",
    "    def allPairs(self, A, B, N, M, X):\n",
    "        # Your code goes here \n",
    "        ans=[]\n",
    "        for i in range(N):\n",
    "            for j in range(M):\n",
    "                if A[i]+B[j]==X:\n",
    "                    ans.append([A[i],B[j]])\n",
    "        ans.sort()\n",
    "        return ans\n",
    "\n",
    "A = [-1, -2, 4, -6, 5, 7]\n",
    "N = len(A)\n",
    "B = [6, 3, 4, 0]\n",
    "M = len(B)\n",
    "X = 8 \n",
    "\n",
    "obj = Solution()\n",
    "obj.allPairs(A,B,N,M,X)"
   ]
  },
  {
   "cell_type": "code",
   "execution_count": null,
   "id": "e5c490ef",
   "metadata": {},
   "outputs": [],
   "source": []
  }
 ],
 "metadata": {
  "kernelspec": {
   "display_name": "Python 3 (ipykernel)",
   "language": "python",
   "name": "python3"
  },
  "language_info": {
   "codemirror_mode": {
    "name": "ipython",
    "version": 3
   },
   "file_extension": ".py",
   "mimetype": "text/x-python",
   "name": "python",
   "nbconvert_exporter": "python",
   "pygments_lexer": "ipython3",
   "version": "3.9.12"
  }
 },
 "nbformat": 4,
 "nbformat_minor": 5
}
