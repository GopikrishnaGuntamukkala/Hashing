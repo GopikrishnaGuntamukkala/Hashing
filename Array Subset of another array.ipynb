{
 "cells": [
  {
   "cell_type": "markdown",
   "id": "4028de4a",
   "metadata": {},
   "source": [
    "# Given two arrays: a1[0..n-1] of size n and a2[0..m-1] of size m. Task is to check whether a2[] is a subset of a1[] or not. Both the arrays can be sorted or unsorted. \n",
    " \n",
    "\n",
    "Example 1:\n",
    "\n",
    "Input:\n",
    "\n",
    "a1[] = {11, 1, 13, 21, 3, 7}\n",
    "\n",
    "a2[] = {11, 3, 7, 1}\n",
    "\n",
    "Output:\n",
    "Yes\n",
    "\n",
    "Explanation:\n",
    "a2[] is a subset of a1[]\n",
    "\n",
    "Example 2:\n",
    "\n",
    "Input:\n",
    "\n",
    "a1[] = {1, 2, 3, 4, 5, 6}\n",
    "\n",
    "a2[] = {1, 2, 4}\n",
    "\n",
    "Output:\n",
    "Yes\n",
    "\n",
    "Explanation:\n",
    "a2[] is a subset of a1[]"
   ]
  },
  {
   "cell_type": "code",
   "execution_count": 1,
   "id": "d8b7ec37",
   "metadata": {},
   "outputs": [
    {
     "data": {
      "text/plain": [
       "'Yes'"
      ]
     },
     "execution_count": 1,
     "metadata": {},
     "output_type": "execute_result"
    }
   ],
   "source": [
    "def isSubset( a1, a2, n, m):\n",
    "   \n",
    "    a1.sort()\n",
    "    a2.sort()\n",
    "    common=0\n",
    "    for i in range(m):\n",
    "        for j in range(n):\n",
    "            if a2[i]==a1[j]:\n",
    "                common+=1\n",
    "    if  common==m:\n",
    "        return \"Yes\"\n",
    "                \n",
    "    return \"No\"\n",
    "\n",
    "a1 = [11, 1, 13, 21, 3, 7]\n",
    "n = len(a1)\n",
    "a2 = [11, 3, 7, 1]\n",
    "m = len(a2)\n",
    "\n",
    "isSubset(a1,a2,n,m)"
   ]
  },
  {
   "cell_type": "code",
   "execution_count": null,
   "id": "5b46bab3",
   "metadata": {},
   "outputs": [],
   "source": []
  }
 ],
 "metadata": {
  "kernelspec": {
   "display_name": "Python 3 (ipykernel)",
   "language": "python",
   "name": "python3"
  },
  "language_info": {
   "codemirror_mode": {
    "name": "ipython",
    "version": 3
   },
   "file_extension": ".py",
   "mimetype": "text/x-python",
   "name": "python",
   "nbconvert_exporter": "python",
   "pygments_lexer": "ipython3",
   "version": "3.9.12"
  }
 },
 "nbformat": 4,
 "nbformat_minor": 5
}
