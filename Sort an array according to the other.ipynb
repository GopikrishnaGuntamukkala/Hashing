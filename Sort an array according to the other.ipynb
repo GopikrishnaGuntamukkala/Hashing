{
 "cells": [
  {
   "cell_type": "markdown",
   "id": "cdea0559",
   "metadata": {},
   "source": [
    "\n",
    "# Given two integer arrays A1[ ] and A2[ ] of size N and M respectively. Sort the first array A1[ ] such that all the relative positions of the elements in the first array are the same as the elements in the second array A2[ ].\n",
    "See example for better understanding.\n",
    "\n",
    "Note: If elements are repeated in the second array, consider their first occurance only.\n",
    "\n",
    "Example 1:\n",
    "\n",
    "Input:\n",
    "\n",
    "N = 11 \n",
    "\n",
    "M = 4\n",
    "\n",
    "A1[] = {2, 1, 2, 5, 7, 1, 9, 3, 6, 8, 8}\n",
    "\n",
    "A2[] = {2, 1, 8, 3}\n",
    "\n",
    "Output: \n",
    "2 2 1 1 8 8 3 5 6 7 9\n",
    "\n",
    "Explanation: Array elements of A1[] are\n",
    "sorted according to A2[]. So 2 comes first\n",
    "then 1 comes, then comes 8, then finally 3\n",
    "comes, now we append remaining elements in\n",
    "sorted order.\n",
    "\n",
    "Example 2:\n",
    "\n",
    "Input:\n",
    "\n",
    "N = 11 \n",
    "\n",
    "M = 4\n",
    "\n",
    "A1[] = {2, 1, 2, 5, 7, 1, 9, 3, 6, 8, 8}\n",
    "\n",
    "A2[] = {99, 22, 444, 56}\n",
    "\n",
    "Output: \n",
    "1 1 2 2 3 5 6 7 8 8 9\n",
    "\n",
    "Explanation: No A1[] elements are in A2[]\n",
    "so we cannot sort A1[] according to A2[].\n",
    "\n",
    "Hence we sort the elements in non-decreasing \n",
    "order."
   ]
  },
  {
   "cell_type": "code",
   "execution_count": 1,
   "id": "9e52d346",
   "metadata": {},
   "outputs": [
    {
     "data": {
      "text/plain": [
       "[2, 2, 1, 1, 8, 8, 3, 5, 6, 7, 9]"
      ]
     },
     "execution_count": 1,
     "metadata": {},
     "output_type": "execute_result"
    }
   ],
   "source": [
    "class Solution:\n",
    "    # A1[] : the input array-1\n",
    "    # N : size of the array A1[]\n",
    "    # A2[] : the input array-2\n",
    "    # M : size of the array A2[]\n",
    "    \n",
    "    #Function to sort an array according to the other array.\n",
    "    def relativeSort (self,A1, N, A2, M):\n",
    "        # Your Code Here\n",
    "        l = dict()\n",
    "        x = []\n",
    "        A1.sort()\n",
    "        for i in A1:\n",
    "            l[i] = 0\n",
    "        for i in A2:\n",
    "            l[i] = 0\n",
    "        for i in A1:\n",
    "            l[i] += 1\n",
    "        for i in range(M):\n",
    "            while(l[A2[i]]!=0):\n",
    "                x.append(A2[i])\n",
    "                l[A2[i]] -= 1\n",
    "        for i in range(N):\n",
    "            while(l[A1[i]]!=0):\n",
    "                x.append(A1[i])\n",
    "                l[A1[i]] -= 1\n",
    "        return x\n",
    "\n",
    "\n",
    "\n",
    "N = 11\n",
    "\n",
    "M = 4\n",
    "\n",
    "A1 = [2, 1, 2, 5, 7, 1, 9, 3, 6, 8, 8]\n",
    "\n",
    "A2 = [2, 1, 8, 3]\n",
    "\n",
    "obj = Solution()\n",
    "obj.relativeSort(A1,N,A2,M)"
   ]
  },
  {
   "cell_type": "code",
   "execution_count": null,
   "id": "57ed79d4",
   "metadata": {},
   "outputs": [],
   "source": []
  }
 ],
 "metadata": {
  "kernelspec": {
   "display_name": "Python 3 (ipykernel)",
   "language": "python",
   "name": "python3"
  },
  "language_info": {
   "codemirror_mode": {
    "name": "ipython",
    "version": 3
   },
   "file_extension": ".py",
   "mimetype": "text/x-python",
   "name": "python",
   "nbconvert_exporter": "python",
   "pygments_lexer": "ipython3",
   "version": "3.9.12"
  }
 },
 "nbformat": 4,
 "nbformat_minor": 5
}
