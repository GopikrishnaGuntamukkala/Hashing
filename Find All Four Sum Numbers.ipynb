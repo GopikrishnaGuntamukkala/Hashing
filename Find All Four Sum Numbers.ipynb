{
 "cells": [
  {
   "cell_type": "markdown",
   "id": "4afcf13d",
   "metadata": {},
   "source": [
    "# Given an array of integers and another number. Find all the unique quadruple from the given array that sums up to the given number.\n",
    "\n",
    "Example 1:\n",
    "\n",
    "Input:\n",
    "\n",
    "N = 5, K = 3\n",
    "\n",
    "A[] = {0,0,2,1,1}\n",
    "\n",
    "Output: 0 0 1 2 $\n",
    "\n",
    "Explanation: Sum of 0, 0, 1, 2 is equal\n",
    "to K.\n",
    "\n",
    "Example 2:\n",
    "\n",
    "Input:\n",
    "\n",
    "N = 7, K = 23\n",
    "\n",
    "A[] = {10,2,3,4,5,7,8}\n",
    "\n",
    "Output: 2 3 8 10 $2 4 7 10 $3 5 7 8 $\n",
    "\n",
    "Explanation: Sum of 2, 3, 8, 10 = 23,\n",
    "\n",
    "sum of 2, 4, 7, 10 = 23 and sum of 3,\n",
    "\n",
    "5, 7, 8 = 23."
   ]
  },
  {
   "cell_type": "code",
   "execution_count": 2,
   "id": "8cd9c1ca",
   "metadata": {},
   "outputs": [
    {
     "data": {
      "text/plain": [
       "[(2, 3, 8, 10), (2, 4, 7, 10), (3, 5, 7, 8)]"
      ]
     },
     "execution_count": 2,
     "metadata": {},
     "output_type": "execute_result"
    }
   ],
   "source": [
    "class Solution:\n",
    "    def fourSum(self, arr, k):\n",
    "       # code here\n",
    "       \n",
    "        li = set()\n",
    "        n = len(arr)\n",
    "        arr.sort()\n",
    "        for i in range(n-3):\n",
    "            for j in range(i+1, n-2):\n",
    "                l = j + 1\n",
    "                r = n - 1\n",
    "                while(l < r):\n",
    "                    s = arr[i] + arr[j] + arr[l] + arr[r]\n",
    "                    if (s == k):\n",
    "                        li.add((arr[i], arr[j], arr[l], arr[r]))\n",
    "                        l += 1\n",
    "                        r -= 1\n",
    "                    elif (s < k):\n",
    "                        l += 1\n",
    "                    else :\n",
    "                        r -= 1\n",
    "        return sorted(li)  \n",
    "    \n",
    "n = 7\n",
    "arr = [10,2,3,4,5,7,8]\n",
    "k = 23\n",
    "\n",
    "obj = Solution()\n",
    "obj.fourSum(arr, k)\n"
   ]
  },
  {
   "cell_type": "code",
   "execution_count": null,
   "id": "85478a55",
   "metadata": {},
   "outputs": [],
   "source": []
  }
 ],
 "metadata": {
  "kernelspec": {
   "display_name": "Python 3 (ipykernel)",
   "language": "python",
   "name": "python3"
  },
  "language_info": {
   "codemirror_mode": {
    "name": "ipython",
    "version": 3
   },
   "file_extension": ".py",
   "mimetype": "text/x-python",
   "name": "python",
   "nbconvert_exporter": "python",
   "pygments_lexer": "ipython3",
   "version": "3.9.12"
  }
 },
 "nbformat": 4,
 "nbformat_minor": 5
}
