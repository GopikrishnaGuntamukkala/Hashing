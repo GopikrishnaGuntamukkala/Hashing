{
 "cells": [
  {
   "cell_type": "markdown",
   "id": "cb6060da",
   "metadata": {},
   "source": [
    "# You are given an array arr[] of size n. Find the total count of sub-arrays having their sum equal to 0.\n",
    "\n",
    "\n",
    "Example 1:\n",
    "\n",
    "Input:\n",
    "\n",
    "n = 6\n",
    "\n",
    "arr[] = {0,0,5,5,0,0}\n",
    "\n",
    "Output: 6\n",
    "\n",
    "Explanation: The 6 subarrays are \n",
    "[0], [0], [0], [0], [0,0], and [0,0].\n",
    "\n",
    "Example 2:\n",
    "\n",
    "Input:\n",
    "\n",
    "n = 10\n",
    "\n",
    "arr[] = {6,-1,-3,4,-2,2,4,6,-12,-7}\n",
    "\n",
    "Output: 4\n",
    "\n",
    "Explanation: The 4 subarrays are [-1 -3 4]\n",
    "[-2 2], [2 4 6 -12], and [-1 -3 4 -2 2]\n"
   ]
  },
  {
   "cell_type": "code",
   "execution_count": 1,
   "id": "5cafc32f",
   "metadata": {},
   "outputs": [
    {
     "data": {
      "text/plain": [
       "4"
      ]
     },
     "execution_count": 1,
     "metadata": {},
     "output_type": "execute_result"
    }
   ],
   "source": [
    "class Solution:\n",
    "   #Function to count subarrays with sum equal to 0.\n",
    "   def findSubArrays(self,arr,n):\n",
    "       \n",
    "       #return: count of sub-arrays having their sum equal to 0\n",
    "        d={}\n",
    "        count=0\n",
    "        cumsum=0\n",
    "        for i in range(n):\n",
    "            cumsum+=arr[i]\n",
    "            if cumsum==0:\n",
    "                count+=1\n",
    "            count+=d.get(cumsum,0)\n",
    "            d[cumsum]=d.get(cumsum,0)+1\n",
    "        return count\n",
    "n = 10\n",
    "\n",
    "arr = [6,-1,-3,4,-2,2,4,6,-12,-7]\n",
    "\n",
    "#Output: 4\n",
    "\n",
    "obj = Solution()\n",
    "obj.findSubArrays(arr,n)"
   ]
  },
  {
   "cell_type": "code",
   "execution_count": null,
   "id": "5dbb4157",
   "metadata": {},
   "outputs": [],
   "source": []
  }
 ],
 "metadata": {
  "kernelspec": {
   "display_name": "Python 3 (ipykernel)",
   "language": "python",
   "name": "python3"
  },
  "language_info": {
   "codemirror_mode": {
    "name": "ipython",
    "version": 3
   },
   "file_extension": ".py",
   "mimetype": "text/x-python",
   "name": "python",
   "nbconvert_exporter": "python",
   "pygments_lexer": "ipython3",
   "version": "3.9.12"
  }
 },
 "nbformat": 4,
 "nbformat_minor": 5
}
