{
 "cells": [
  {
   "cell_type": "markdown",
   "id": "f6155983",
   "metadata": {},
   "source": [
    "Given an array of positive integers. Find the length of the longest sub-sequence such that elements in the subsequence are consecutive integers, the consecutive numbers can be in any order.\n",
    " \n",
    "\n",
    "Example 1:\n",
    "\n",
    "Input:\n",
    "\n",
    "N = 7\n",
    "\n",
    "a[] = {2,6,1,9,4,5,3}\n",
    "\n",
    "Output:\n",
    "6\n",
    "\n",
    "Explanation:\n",
    "The consecutive numbers here\n",
    "are 1, 2, 3, 4, 5, 6. \n",
    "\n",
    "These 6 \n",
    "numbers form the longest consecutive\n",
    "subsquence.\n",
    "\n",
    "Example 2:\n",
    "\n",
    "Input:\n",
    "\n",
    "N = 7\n",
    "\n",
    "a[] = {1,9,3,10,4,20,2}\n",
    "\n",
    "Output:\n",
    "4\n",
    "\n",
    "Explanation:\n",
    "1, 2, 3, 4 is the longest\n",
    "consecutive subsequence."
   ]
  },
  {
   "cell_type": "code",
   "execution_count": 1,
   "id": "4f8d5d11",
   "metadata": {},
   "outputs": [
    {
     "data": {
      "text/plain": [
       "4"
      ]
     },
     "execution_count": 1,
     "metadata": {},
     "output_type": "execute_result"
    }
   ],
   "source": [
    "class Solution:\n",
    "    \n",
    "    # arr[] : the input array\n",
    "    # N : size of the array arr[]\n",
    "    \n",
    "    #Function to return length of longest subsequence of consecutive integers.\n",
    "    def findLongestConseqSubseq(self,arr, N):\n",
    "        #code here\n",
    "        length=0\n",
    "        longest=0\n",
    "        s=set(arr)\n",
    "        for i in arr:\n",
    "            if (i-1) not in s:\n",
    "                length=0\n",
    "                while (i+length) in s:\n",
    "                    length+=1\n",
    "                longest=max(longest,length)\n",
    "        return longest\n",
    "    \n",
    "N = 7\n",
    "\n",
    "arr = [1,9,3,10,4,20,2]\n",
    "\n",
    "obj = Solution()\n",
    "obj.findLongestConseqSubseq(arr,N)\n"
   ]
  },
  {
   "cell_type": "code",
   "execution_count": null,
   "id": "f337d7d0",
   "metadata": {},
   "outputs": [],
   "source": []
  }
 ],
 "metadata": {
  "kernelspec": {
   "display_name": "Python 3 (ipykernel)",
   "language": "python",
   "name": "python3"
  },
  "language_info": {
   "codemirror_mode": {
    "name": "ipython",
    "version": 3
   },
   "file_extension": ".py",
   "mimetype": "text/x-python",
   "name": "python",
   "nbconvert_exporter": "python",
   "pygments_lexer": "ipython3",
   "version": "3.9.12"
  }
 },
 "nbformat": 4,
 "nbformat_minor": 5
}
