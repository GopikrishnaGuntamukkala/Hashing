{
 "cells": [
  {
   "cell_type": "markdown",
   "id": "289c9aee",
   "metadata": {},
   "source": [
    "# Given two lists V1 and V2 of sizes n and m respectively. Return the list of elements common to both the lists and return the list in sorted order. Duplicates may be there in the output list.\n",
    "\n",
    "Example:\n",
    "\n",
    "Input:\n",
    "\n",
    "n = 5\n",
    "\n",
    "v1[] = {3, 4, 2, 2, 4}\n",
    "\n",
    "m = 4\n",
    "\n",
    "v2[] = {3, 2, 2, 7}\n",
    "\n",
    "Output:\n",
    "2 2 3\n",
    "\n",
    "Explanation:\n",
    "The common elements in sorted order are {2 2 3}"
   ]
  },
  {
   "cell_type": "code",
   "execution_count": 1,
   "id": "d7e82de1",
   "metadata": {},
   "outputs": [
    {
     "data": {
      "text/plain": [
       "[2, 2, 3]"
      ]
     },
     "execution_count": 1,
     "metadata": {},
     "output_type": "execute_result"
    }
   ],
   "source": [
    "#from iterator tools import collections\n",
    "class Solution:\n",
    "    def common_element(self,v1,v2):\n",
    "        new = {}\n",
    "        result = []\n",
    "\n",
    "        for i in v1:\n",
    "            new[i] = new.get(i,0) +1\n",
    "\n",
    "        for i in v2:\n",
    "            if i in new and new[i ] > 0:\n",
    "                result.append(i)\n",
    "                new[i] -= 1\n",
    " \n",
    "        return list(sorted(result))\n",
    "\n",
    "\n",
    "n = 5\n",
    "v1 = [3, 4, 2, 2, 4]\n",
    "m = 4\n",
    "v2 = [3, 2, 2, 7]\n",
    "\n",
    "obj = Solution()\n",
    "obj.common_element(v1,v2)"
   ]
  },
  {
   "cell_type": "code",
   "execution_count": null,
   "id": "9c4d72ea",
   "metadata": {},
   "outputs": [],
   "source": []
  }
 ],
 "metadata": {
  "kernelspec": {
   "display_name": "Python 3 (ipykernel)",
   "language": "python",
   "name": "python3"
  },
  "language_info": {
   "codemirror_mode": {
    "name": "ipython",
    "version": 3
   },
   "file_extension": ".py",
   "mimetype": "text/x-python",
   "name": "python",
   "nbconvert_exporter": "python",
   "pygments_lexer": "ipython3",
   "version": "3.9.12"
  }
 },
 "nbformat": 4,
 "nbformat_minor": 5
}
